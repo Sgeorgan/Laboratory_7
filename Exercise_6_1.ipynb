{
 "cells": [
  {
   "cell_type": "markdown",
   "id": "57cc0044",
   "metadata": {},
   "source": [
    "## Assignment 1: A scatter plot of random points \n",
    "\n",
    "The aim of this task is to create a simple scatter plot using random input values and random colors!\n",
    "Finally, you will save the plot as `.png` file that should look something like this: \n",
    " \n",
    "\n",
    "### Scores for this problem\n",
    "\n",
    "**Your score on this problem will be based on following criteria:**\n",
    "\n",
    "- Creating a DataFrame containing 1000 x, y, and color values\n",
    "- Creating a scatter plot of these points as instructed\n",
    "- Adding a title and axis labels to the plot\n",
    "- Saving a copy of the plot as a PNG file and commiting it to your repo\n",
    "- Including comments that explain what most lines in the code do"
   ]
  },
  {
   "cell_type": "markdown",
   "id": "0c7607dc",
   "metadata": {},
   "source": [
    "### Part 1 \n",
    "Create an new data frame called `data` and add 1000 random numbers (of type `float`) into a new column `x` and another 1000 random numbers into a new column `y`."
   ]
  },
  {
   "cell_type": "code",
   "execution_count": null,
   "id": "6075a6d6",
   "metadata": {},
   "outputs": [],
   "source": [
    "import numpy as np\n",
    "import pandas as pd\n",
    "\n",
    "# YOUR CODE HERE\n"
   ]
  },
  {
   "cell_type": "markdown",
   "id": "3a3128da",
   "metadata": {},
   "source": [
    "### Part 2 \n",
    "\n",
    "Create a variable `colors` in which you should store 1000 random values for the colors so that we get a little sweeter looking plot.\n",
    "\n",
    "The variable `colors` should be an array of random numbers, not a DataFrame column."
   ]
  },
  {
   "cell_type": "code",
   "execution_count": null,
   "id": "727f4916",
   "metadata": {},
   "outputs": [],
   "source": [
    "# YOUR CODE HERE\n",
    "colors=np.random.rand(1000)"
   ]
  },
  {
   "cell_type": "code",
   "execution_count": null,
   "id": "41ded0f5",
   "metadata": {},
   "outputs": [],
   "source": [
    "# This test print should print out 10 first numbers in the variable colors\n",
    "print(colors[0:10])\n",
    "\n",
    "# Check that the length matches\n",
    "assert len(colors) == 1000, \"There should be 1000 random numbers for colors\""
   ]
  },
  {
   "cell_type": "markdown",
   "id": "33f9b4f8",
   "metadata": {},
   "source": [
    "### Part 3 \n",
    "\n",
    "#### Part 3.1\n",
    "\n",
    "Create a scatter plot of points with random colors.\n",
    "\n",
    "Make the scatter plot using `DataFrame.plot()` with the following options:\n",
    "\n",
    "- set the type of the plot using parameter `kind=scatter` (or use `DataFrame.plot.scatter()`)\n",
    "- modify the size of a point using the parameter `s` (the example plot uses `s=50`)\n",
    "- set the random colors for the points using the parameter `c`\n",
    "- set the color scheme using the parameter `colormap`\n",
    "    - The example image uses the `'rainbow'` colormap\n",
    "    - you can also choose another color map from here: https://matplotlib.org/stable/tutorials/colors/colormaps.html\n",
    "    - you can add a black outline around the points using the parameter `edgecolors`. The example uses `edgecolors='black'`.\n",
    "\n",
    "#### Part 3.2\n",
    "\n",
    "Add a title, x-label and y-label to your plot as shown in the example figure.\n",
    "\n",
    "- create the variables `title`, `xlabel` and `ylabel` and store the title and axis label text in them\n",
    "- use the pandas plotting parameters or `matplotlib.pyplot` methods to add the title and axis labels to the figure\n",
    "\n",
    "**Feel free to change the colors and markers in the plot :)**\n",
    "\n",
    "#### Part 3.3\n",
    "\n",
    "Create a variable `outputfp` with the output filename `my_first_plot.png` and save your plot as a PNG file into the disk (note: you have to save the file in the same code cell where you do the plotting). "
   ]
  },
  {
   "cell_type": "code",
   "execution_count": null,
   "id": "cc8df689",
   "metadata": {},
   "outputs": [],
   "source": [
    "%matplotlib inline\n",
    "\n",
    "# Plot the scatter plot\n",
    "# YOUR CODE HERE\n",
    "\n",
    "# YOUR CODE HERE\n",
    "\n",
    "\n",
    "# This test print statement should print the output filename of your figure\n",
    "print(f'Saved my first plot as {outputfp}')"
   ]
  },
  {
   "cell_type": "code",
   "execution_count": null,
   "id": "d520ad9a",
   "metadata": {},
   "outputs": [],
   "source": [
    "# Check that the file exists (also go and open the file to check that everything is ok!)\n",
    "import os\n",
    "\n",
    "assert os.path.exists(outputfp), \"Can't find the output image.\""
   ]
  },
  {
   "cell_type": "code",
   "execution_count": null,
   "id": "1827de63",
   "metadata": {},
   "outputs": [],
   "source": []
  },
  {
   "cell_type": "code",
   "execution_count": null,
   "id": "15c5b0c9",
   "metadata": {},
   "outputs": [],
   "source": []
  }
 ],
 "metadata": {
  "kernelspec": {
   "display_name": "Python 3 (ipykernel)",
   "language": "python",
   "name": "python3"
  },
  "language_info": {
   "codemirror_mode": {
    "name": "ipython",
    "version": 3
   },
   "file_extension": ".py",
   "mimetype": "text/x-python",
   "name": "python",
   "nbconvert_exporter": "python",
   "pygments_lexer": "ipython3",
   "version": "3.9.7"
  }
 },
 "nbformat": 4,
 "nbformat_minor": 5
}
